{
 "cells": [
  {
   "cell_type": "markdown",
   "id": "f8a74527-64f6-4044-8996-cfef1a6dfe84",
   "metadata": {},
   "source": [
    "<div align=\"center\">\n",
    "  <img src=\"logo.png\" alt=\"logo\" width=\"600\" height=\"500\"/>\n",
    "</div>\n"
   ]
  },
  {
   "cell_type": "markdown",
   "id": "2e0bd8d8-b59e-4e53-ab89-1a83ac86d204",
   "metadata": {},
   "source": [
    "### GLOBAL LIFE EXPECTANCY ANALYSIS: DEVELOPED VS DEVELOPING COUNTRIES\n",
    "\n"
   ]
  },
  {
   "cell_type": "markdown",
   "id": "39e72c5d-528b-4425-ad2b-b454d7c29b3b",
   "metadata": {},
   "source": [
    "### Introduction\n",
    "Life expectancy is a fundamental indicator of global health and well-being, reflecting the overall health status, \n",
    "socio-economic conditions,\n",
    "and quality of life within a nation. Understanding the different factors that influence it is crucial for policymakers, \n",
    "public health initiatives, and sustainable development goals. \n",
    "\n",
    "This project leverages a comprehensive dataset encompassing various health, economic, social determinants and demographic indicators to \n",
    "conduct a detailed analysis of life expectancy trends and drivers across the globe.\n"
   ]
  },
  {
   "cell_type": "markdown",
   "id": "cab9e988-1c34-453b-a2a1-ffb5dba00624",
   "metadata": {},
   "source": [
    "### Project Goal\n",
    "\n",
    "The primary goal of this project is to thoroughly investigate and compare the dynamics of life expectancy in both developed and developing countries. including identifying the key factors contributing to its variation, exploring its relationships with economic prosperity, and building a model to predict life expectancy.\n",
    "\n"
   ]
  },
  {
   "cell_type": "markdown",
   "id": "149c77d0-f0c2-4f07-ab66-dcee95d9d244",
   "metadata": {},
   "source": [
    "### Objectives\n",
    "1. To analyze how infant deaths, under-five deaths, HIV/AIDS, and immunization rates (Hepatitis B, Polio, Diphtheria,measles) contribute to life expectancy and to suggest measures that can reduce deaths and improve people's health.\n",
    "\n",
    "2. To investigate how demographic factors like population size affect life expectancy in developed and developing countries  in order to identify patterns and differences that can be used to make development policies like population census and resource allocation.\n",
    "\n",
    "3. To evaluate how social factors such as Schooling and alcohol consumption affects life expectancy, in order to understand how improvements in education and living standards can lead to longer and healthier lives.\n",
    "\n",
    "4. To analyze how  GDP and income composition contribute to life expectancy in order to determine whether increase in life expectancy are associated with higher economic output.\n",
    "\n",
    "5. To build a regression model to accurately estimate life expectancy across different populations.\n",
    "\n",
    "\n"
   ]
  },
  {
   "cell_type": "markdown",
   "id": "52d86bac-80fe-4097-8836-92f52c984d77",
   "metadata": {},
   "source": [
    "### Methodology\n",
    "This project will use exploratory and comparative analysis, starting with data cleaning and preparation, and using visualizations to reveal distinct patterns and influencing factors"
   ]
  },
  {
   "cell_type": "markdown",
   "id": "26f031e9-5f98-4ee3-b2e0-ccc2c269167e",
   "metadata": {},
   "source": [
    "### Expected Outcomes\n",
    "This project is expected to provide valuable insights into the factors influencing life expectancy globally. The findings will contribute to a better understanding of which interventions and socio-economic improvements have the most significant impact on human longevity and overall societal development.\n",
    "\n"
   ]
  },
  {
   "cell_type": "markdown",
   "id": "819426c9-41a5-4252-9b4f-9ae982122826",
   "metadata": {},
   "source": [
    "### Data Preparation and Cleaning"
   ]
  },
  {
   "cell_type": "code",
   "execution_count": 36,
   "id": "5a238088",
   "metadata": {},
   "outputs": [],
   "source": [
    "import pandas as pd\n",
    "import matplotlib.pyplot as plt\n",
    "import seaborn as sns\n",
    "import numpy as np"
   ]
  },
  {
   "cell_type": "markdown",
   "id": "de3ccf69-c88d-41d2-a12b-a565f109ffec",
   "metadata": {},
   "source": [
    "#### Load the data set"
   ]
  },
  {
   "cell_type": "code",
   "execution_count": 37,
   "id": "deb4d89f-57a0-44fd-bc10-62793bf47359",
   "metadata": {},
   "outputs": [
    {
     "name": "stdout",
     "output_type": "stream",
     "text": [
      "\n",
      "Information about the dataset:\n",
      "<class 'pandas.core.frame.DataFrame'>\n",
      "RangeIndex: 1649 entries, 0 to 1648\n",
      "Data columns (total 22 columns):\n",
      " #   Column                           Non-Null Count  Dtype  \n",
      "---  ------                           --------------  -----  \n",
      " 0   Country                          1649 non-null   object \n",
      " 1   Year                             1649 non-null   int64  \n",
      " 2   Status                           1649 non-null   object \n",
      " 3   Life expectancy                  1649 non-null   float64\n",
      " 4   Adult Mortality                  1649 non-null   int64  \n",
      " 5   infant deaths                    1649 non-null   int64  \n",
      " 6   Alcohol                          1649 non-null   float64\n",
      " 7   percentage expenditure           1649 non-null   float64\n",
      " 8   Hepatitis B                      1649 non-null   int64  \n",
      " 9   Measles                          1649 non-null   int64  \n",
      " 10   BMI                             1649 non-null   float64\n",
      " 11  under-five deaths                1649 non-null   int64  \n",
      " 12  Polio                            1649 non-null   int64  \n",
      " 13  Total expenditure                1649 non-null   float64\n",
      " 14  Diphtheria                       1649 non-null   int64  \n",
      " 15   HIV/AIDS                        1649 non-null   float64\n",
      " 16  GDP                              1649 non-null   float64\n",
      " 17  Population                       1649 non-null   float64\n",
      " 18   thinness  1-19 years            1649 non-null   float64\n",
      " 19   thinness 5-9 years              1649 non-null   float64\n",
      " 20  Income composition of resources  1649 non-null   float64\n",
      " 21  Schooling                        1649 non-null   float64\n",
      "dtypes: float64(12), int64(8), object(2)\n",
      "memory usage: 283.6+ KB\n"
     ]
    }
   ],
   "source": [
    "df = pd.read_csv('Life_Expectancy_Data.csv')\n",
    "print('\\nInformation about the dataset:')\n",
    "df.info()"
   ]
  },
  {
   "cell_type": "markdown",
   "id": "fd67535e-6fa7-4382-b680-930ada8eb425",
   "metadata": {},
   "source": [
    "#### First 5 rows of the data set"
   ]
  },
  {
   "cell_type": "code",
   "execution_count": 38,
   "id": "afe1a4ec",
   "metadata": {},
   "outputs": [
    {
     "name": "stdout",
     "output_type": "stream",
     "text": [
      "First 5 rows of the dataset:\n",
      "       Country  Year      Status  Life expectancy   Adult Mortality  \\\n",
      "0  Afghanistan  2015  Developing              65.0              263   \n",
      "1  Afghanistan  2014  Developing              59.9              271   \n",
      "2  Afghanistan  2013  Developing              59.9              268   \n",
      "3  Afghanistan  2012  Developing              59.5              272   \n",
      "4  Afghanistan  2011  Developing              59.2              275   \n",
      "\n",
      "   infant deaths  Alcohol  percentage expenditure  Hepatitis B  Measles   ...  \\\n",
      "0             62     0.01               71.279624           65      1154  ...   \n",
      "1             64     0.01               73.523582           62       492  ...   \n",
      "2             66     0.01               73.219243           64       430  ...   \n",
      "3             69     0.01               78.184215           67      2787  ...   \n",
      "4             71     0.01                7.097109           68      3013  ...   \n",
      "\n",
      "   Polio  Total expenditure  Diphtheria    HIV/AIDS         GDP  Population  \\\n",
      "0      6               8.16           65        0.1  584.259210  33736494.0   \n",
      "1     58               8.18           62        0.1  612.696514    327582.0   \n",
      "2     62               8.13           64        0.1  631.744976  31731688.0   \n",
      "3     67               8.52           67        0.1  669.959000   3696958.0   \n",
      "4     68               7.87           68        0.1   63.537231   2978599.0   \n",
      "\n",
      "    thinness  1-19 years   thinness 5-9 years  \\\n",
      "0                   17.2                 17.3   \n",
      "1                   17.5                 17.5   \n",
      "2                   17.7                 17.7   \n",
      "3                   17.9                 18.0   \n",
      "4                   18.2                 18.2   \n",
      "\n",
      "   Income composition of resources  Schooling  \n",
      "0                            0.479       10.1  \n",
      "1                            0.476       10.0  \n",
      "2                            0.470        9.9  \n",
      "3                            0.463        9.8  \n",
      "4                            0.454        9.5  \n",
      "\n",
      "[5 rows x 22 columns]\n"
     ]
    }
   ],
   "source": [
    "\n",
    "print('First 5 rows of the dataset:')\n",
    "print(df.head())"
   ]
  },
  {
   "cell_type": "markdown",
   "id": "defab5d5-4bf0-4027-929b-c65b039e72c1",
   "metadata": {},
   "source": [
    "#### Summary of the dataset (index dtype and columns, non-null values and memory usage)"
   ]
  },
  {
   "cell_type": "code",
   "execution_count": 39,
   "id": "f2586c35",
   "metadata": {},
   "outputs": [
    {
     "name": "stdout",
     "output_type": "stream",
     "text": [
      "\n",
      "Descriptive statistics of the dataset:\n"
     ]
    },
    {
     "name": "stdout",
     "output_type": "stream",
     "text": [
      "              Year  Life expectancy   Adult Mortality  infant deaths  \\\n",
      "count  1649.000000       1649.000000      1649.000000    1649.000000   \n",
      "mean   2007.840509         69.302304       168.215282      32.553062   \n",
      "std       4.087711          8.796834       125.310417     120.847190   \n",
      "min    2000.000000         44.000000         1.000000       0.000000   \n",
      "25%    2005.000000         64.400000        77.000000       1.000000   \n",
      "50%    2008.000000         71.700000       148.000000       3.000000   \n",
      "75%    2011.000000         75.000000       227.000000      22.000000   \n",
      "max    2015.000000         89.000000       723.000000    1600.000000   \n",
      "\n",
      "           Alcohol  percentage expenditure  Hepatitis B       Measles   \\\n",
      "count  1649.000000             1649.000000  1649.000000    1649.000000   \n",
      "mean      4.533196              698.973558    79.217708    2224.494239   \n",
      "std       4.029189             1759.229336    25.604664   10085.802019   \n",
      "min       0.010000                0.000000     2.000000       0.000000   \n",
      "25%       0.810000               37.438577    74.000000       0.000000   \n",
      "50%       3.790000              145.102253    89.000000      15.000000   \n",
      "75%       7.340000              509.389994    96.000000     373.000000   \n",
      "max      17.870000            18961.348600    99.000000  131441.000000   \n",
      "\n",
      "              BMI   under-five deaths         Polio  Total expenditure  \\\n",
      "count  1649.000000         1649.000000  1649.000000        1649.000000   \n",
      "mean     38.128623           44.220133    83.564585           5.955925   \n",
      "std      19.754249          162.897999    22.450557           2.299385   \n",
      "min       2.000000            0.000000     3.000000           0.740000   \n",
      "25%      19.500000            1.000000    81.000000           4.410000   \n",
      "50%      43.700000            4.000000    93.000000           5.840000   \n",
      "75%      55.800000           29.000000    97.000000           7.470000   \n",
      "max      77.100000         2100.000000    99.000000          14.390000   \n",
      "\n",
      "       Diphtheria      HIV/AIDS            GDP    Population  \\\n",
      "count  1649.000000  1649.000000    1649.000000  1.649000e+03   \n",
      "mean     84.155246     1.983869    5566.031887  1.465363e+07   \n",
      "std      21.579193     6.032360   11475.900117  7.046039e+07   \n",
      "min       2.000000     0.100000       1.681350  3.400000e+01   \n",
      "25%      82.000000     0.100000     462.149650  1.918970e+05   \n",
      "50%      92.000000     0.100000    1592.572182  1.419631e+06   \n",
      "75%      97.000000     0.700000    4718.512910  7.658972e+06   \n",
      "max      99.000000    50.600000  119172.741800  1.293859e+09   \n",
      "\n",
      "        thinness  1-19 years   thinness 5-9 years  \\\n",
      "count            1649.000000          1649.000000   \n",
      "mean                4.850637             4.907762   \n",
      "std                 4.599228             4.653757   \n",
      "min                 0.100000             0.100000   \n",
      "25%                 1.600000             1.700000   \n",
      "50%                 3.000000             3.200000   \n",
      "75%                 7.100000             7.100000   \n",
      "max                27.200000            28.200000   \n",
      "\n",
      "       Income composition of resources    Schooling  \n",
      "count                      1649.000000  1649.000000  \n",
      "mean                          0.631551    12.119891  \n",
      "std                           0.183089     2.795388  \n",
      "min                           0.000000     4.200000  \n",
      "25%                           0.509000    10.300000  \n",
      "50%                           0.673000    12.300000  \n",
      "75%                           0.751000    14.000000  \n",
      "max                           0.936000    20.700000  \n"
     ]
    }
   ],
   "source": [
    "print('\\nDescriptive statistics of the dataset:')\n",
    "print(df.describe())"
   ]
  },
  {
   "cell_type": "markdown",
   "id": "199e5238-0396-48e3-9c02-1f8f29b106f6",
   "metadata": {},
   "source": [
    "#### Check for the number of missing values in each column"
   ]
  },
  {
   "cell_type": "code",
   "execution_count": 40,
   "id": "120e7350",
   "metadata": {},
   "outputs": [
    {
     "name": "stdout",
     "output_type": "stream",
     "text": [
      "\n",
      "Number of missing values in each column:\n",
      "Country                            0\n",
      "Year                               0\n",
      "Status                             0\n",
      "Life expectancy                    0\n",
      "Adult Mortality                    0\n",
      "infant deaths                      0\n",
      "Alcohol                            0\n",
      "percentage expenditure             0\n",
      "Hepatitis B                        0\n",
      "Measles                            0\n",
      " BMI                               0\n",
      "under-five deaths                  0\n",
      "Polio                              0\n",
      "Total expenditure                  0\n",
      "Diphtheria                         0\n",
      " HIV/AIDS                          0\n",
      "GDP                                0\n",
      "Population                         0\n",
      " thinness  1-19 years              0\n",
      " thinness 5-9 years                0\n",
      "Income composition of resources    0\n",
      "Schooling                          0\n",
      "dtype: int64\n"
     ]
    }
   ],
   "source": [
    "print('\\nNumber of missing values in each column:')\n",
    "print(df.isnull().sum())"
   ]
  },
  {
   "cell_type": "markdown",
   "id": "29162687-c399-43d1-bf4e-7158144490b0",
   "metadata": {},
   "source": [
    "#### Calculate the percentage of missing values in each column"
   ]
  },
  {
   "cell_type": "code",
   "execution_count": 41,
   "id": "a72455d7",
   "metadata": {},
   "outputs": [
    {
     "name": "stdout",
     "output_type": "stream",
     "text": [
      "\n",
      "Percentage of missing values in each column:\n",
      "Country                            0.0\n",
      "Year                               0.0\n",
      "Status                             0.0\n",
      "Life expectancy                    0.0\n",
      "Adult Mortality                    0.0\n",
      "infant deaths                      0.0\n",
      "Alcohol                            0.0\n",
      "percentage expenditure             0.0\n",
      "Hepatitis B                        0.0\n",
      "Measles                            0.0\n",
      " BMI                               0.0\n",
      "under-five deaths                  0.0\n",
      "Polio                              0.0\n",
      "Total expenditure                  0.0\n",
      "Diphtheria                         0.0\n",
      " HIV/AIDS                          0.0\n",
      "GDP                                0.0\n",
      "Population                         0.0\n",
      " thinness  1-19 years              0.0\n",
      " thinness 5-9 years                0.0\n",
      "Income composition of resources    0.0\n",
      "Schooling                          0.0\n",
      "dtype: float64\n"
     ]
    }
   ],
   "source": [
    "missing_percentage = df.isnull().mean() * 100\n",
    "print('\\nPercentage of missing values in each column:')\n",
    "print(missing_percentage)"
   ]
  },
  {
   "cell_type": "markdown",
   "id": "d2032145",
   "metadata": {},
   "source": [
    "### Outliers "
   ]
  },
  {
   "cell_type": "code",
   "execution_count": 42,
   "id": "fe49fa96",
   "metadata": {},
   "outputs": [
    {
     "name": "stdout",
     "output_type": "stream",
     "text": [
      "Life expectancy : 39 outliers\n",
      "Adult Mortality: 54 outliers\n",
      "infant deaths: 199 outliers\n",
      "Alcohol: 2 outliers\n",
      "percentage expenditure: 187 outliers\n",
      "Hepatitis B: 165 outliers\n",
      "Measles : 297 outliers\n",
      "under-five deaths : 222 outliers\n",
      "Polio: 142 outliers\n",
      "Total expenditure: 7 outliers\n",
      "Diphtheria : 134 outliers\n",
      " HIV/AIDS: 299 outliers\n",
      "GDP: 208 outliers\n",
      "Population: 233 outliers\n",
      " thinness  1-19 years: 77 outliers\n",
      " thinness 5-9 years: 78 outliers\n",
      "Income composition of resources: 48 outliers\n",
      "Schooling: 16 outliers\n"
     ]
    }
   ],
   "source": [
    "\n",
    "# Select numeric columns\n",
    "numeric_df = df.select_dtypes(include=['float64', 'int64'])\n",
    "\n",
    "# Function to detect outliers using IQR\n",
    "def detect_outliers_iqr(data):\n",
    "    outlier_info = {}\n",
    "    for col in data.columns:\n",
    "        Q1 = data[col].quantile(0.25)\n",
    "        Q3 = data[col].quantile(0.75)\n",
    "        IQR = Q3 - Q1\n",
    "        lower_bound = Q1 - 1.5 * IQR\n",
    "        upper_bound = Q3 + 1.5 * IQR\n",
    "\n",
    "        # Identify outliers\n",
    "        outliers = data[(data[col] < lower_bound) | (data[col] > upper_bound)]\n",
    "        outlier_count = outliers.shape[0]\n",
    "\n",
    "        if outlier_count > 0:\n",
    "            outlier_info[col] = outlier_count\n",
    "    \n",
    "    return outlier_info\n",
    "\n",
    "# Detect outliers\n",
    "outliers = detect_outliers_iqr(numeric_df)\n",
    "\n",
    "# Display columns with outliers and the count of outliers in each\n",
    "for col, count in outliers.items():\n",
    "    print(f\"{col}: { count } outliers\")\n"
   ]
  },
  {
   "cell_type": "markdown",
   "id": "e063d2a0",
   "metadata": {},
   "source": [
    " ### Winsorization"
   ]
  },
  {
   "cell_type": "code",
   "execution_count": 43,
   "id": "fa7c3afd",
   "metadata": {},
   "outputs": [
    {
     "name": "stdout",
     "output_type": "stream",
     "text": [
      "Outliers have been handled using winsorization.\n"
     ]
    }
   ],
   "source": [
    "\n",
    "# Select numeric columns\n",
    "numeric_df = df.select_dtypes(include=['float64', 'int64'])\n",
    "\n",
    "# Winsorize (cap) outliers based on IQR\n",
    "def winsorize_iqr(data):\n",
    "    for col in data.columns:\n",
    "        Q1 = data[col].quantile(0.25)\n",
    "        Q3 = data[col].quantile(0.75)\n",
    "        IQR = Q3 - Q1\n",
    "        lower_bound = Q1 - 1.5 * IQR\n",
    "        upper_bound = Q3 + 1.5 * IQR\n",
    "\n",
    "        # Cap the outliers\n",
    "        data[col] = data[col].clip(lower=lower_bound, upper=upper_bound)\n",
    "    \n",
    "    return data\n",
    "\n",
    "# Apply winsorization\n",
    "df[numeric_df.columns] = winsorize_iqr(numeric_df)\n",
    "\n",
    "\n",
    "print(\"Outliers have been handled using winsorization.\")\n"
   ]
  },
  {
   "cell_type": "markdown",
   "id": "16c75ed5",
   "metadata": {},
   "source": [
    "Confirming no outliers in the data set"
   ]
  },
  {
   "cell_type": "code",
   "execution_count": null,
   "id": "d281b395",
   "metadata": {},
   "outputs": [
    {
     "name": "stdout",
     "output_type": "stream",
     "text": [
      "No outliers found in the dataset!\n"
     ]
    }
   ],
   "source": [
    "# Assuming df is your DataFrame and numeric columns are of interest\n",
    "numeric_cols = df.select_dtypes(include=['float64', 'int64']).columns\n",
    "\n",
    "def check_outliers(data, columns):\n",
    "    outlier_found = False\n",
    "    for col in columns:\n",
    "        Q1 = data[col].quantile(0.25)\n",
    "        Q3 = data[col].quantile(0.75)\n",
    "        IQR = Q3 - Q1\n",
    "        \n",
    "        lower_bound = Q1 - 1.5 * IQR\n",
    "        upper_bound = Q3 + 1.5 * IQR\n",
    "        \n",
    "        # Find outliers\n",
    "        outliers = data[(data[col] < lower_bound) | (data[col] > upper_bound)]\n",
    "        \n",
    "        if not outliers.empty:\n",
    "            outlier_found = True\n",
    "            print(f\"Outliers found in column '{col}':\")\n",
    "            print(outliers[[col]])\n",
    "    \n",
    "    if not outlier_found:\n",
    "        print(\"No outliers found in the dataset!\")\n",
    "\n",
    "check_outliers(df, numeric_cols)\n"
   ]
  },
  {
   "cell_type": "markdown",
   "id": "156161e7",
   "metadata": {},
   "source": [
    "##  Objective 3: \n",
    "### To analyze how  GDP and income composition contribute to life expectancy in order to determine whether increase in life expectancy are associated with higher economic output."
   ]
  },
  {
   "cell_type": "markdown",
   "id": "84e700ad-6444-457c-9cbf-c9923be9ace9",
   "metadata": {},
   "source": [
    "### GDP vs Life Expectancy in Developed & Developing Countries"
   ]
  },
  {
   "cell_type": "code",
   "execution_count": 45,
   "id": "436cdc61",
   "metadata": {},
   "outputs": [
    {
     "data": {
      "image/png": "[encoded data removed]",
      "text/plain": [
       "<Figure size 700x500 with 1 Axes>"
      ]
     },
     "metadata": {},
     "output_type": "display_data"
    }
   ],
   "source": [
    "df = df.dropna(subset=[\"GDP\", \"Life expectancy \", \"Year\"])\n",
    "\n",
    "# 1. Define country groups\n",
    "developed_countries = ['Italy', 'Germany', 'Malta', 'Poland', 'Bulgaria']\n",
    "developing_countries = ['India', 'Nigeria', 'Bangladesh', 'Kenya', 'Zambia']\n",
    "\n",
    "# 2. Prepare data function: filter by countries, group by year, calculate averages\n",
    "def prepare_avg_data(df, countries):\n",
    "    subset = df[df[\"Country\"].isin(countries)]\n",
    "    avg_data = subset.groupby(\"Year\")[[\"Life expectancy \", \"GDP\"]].mean().reset_index()\n",
    "    return avg_data\n",
    "\n",
    "developed_avg = prepare_avg_data(df, developed_countries)\n",
    "developing_avg = prepare_avg_data(df, developing_countries)\n",
    "\n",
    "# 3. Plotting\n",
    "plt.figure(figsize=(7, 5))\n",
    "plt.plot(developed_avg[\"Year\"], developed_avg[\"GDP\"], label=\"Developed Countries\")\n",
    "plt.plot(developing_avg[\"Year\"], developing_avg[\"GDP\"], label=\"Developing Countries\")\n",
    "\n",
    "# 4. Customize plot\n",
    "plt.title(\"GDP vs Life Expectancy in Developed & Developing Countries\")\n",
    "plt.xlabel(\"Life Expectancy over the years\")\n",
    "plt.ylabel(\"GDP\")\n",
    "plt.legend()\n",
    "plt.grid(True)\n",
    "plt.tight_layout()\n",
    "\n",
    "# 6. Show plot\n",
    "plt.show()\n"
   ]
  },
  {
   "cell_type": "markdown",
   "id": "a6d1e91c",
   "metadata": {},
   "source": [
    "### Explanation of the above graph \n",
    "This is a line graph that displays the relationship between GDP (Gross Domestic Product) and life expectancy over time for two groups: developed countries and developing countries. \n",
    "The x-axis represents the years, while the y-axis shows the average GDP. Two lines represent the trends for developed and developing countries, respectively.\n",
    "\n",
    "\n"
   ]
  },
  {
   "cell_type": "markdown",
   "id": "8b847334",
   "metadata": {},
   "source": [
    "### Insights \n",
    "The graph shows that developed countries consistently have much higher GDP values compared to developing countries.\n",
    "\n",
    "Both groups exhibit fluctuations in GDP over the years, but developed countries have more pronounced changes.\n",
    "\n",
    "The GDP of developing countries remains relatively low and stable, with slight increases over time."
   ]
  },
  {
   "cell_type": "markdown",
   "id": "ef400a81",
   "metadata": {},
   "source": [
    "### Deductions\n",
    "There is a general trend where increases in life expectancy corresponds to increases in GDP, Impying that healthier populations tend to be more productive, supporting economic growth\n",
    "\n",
    "Developed countries start with both higher life expectancy and GDP levels. This implies that their growth is steadier since they have already achieved high development.\n",
    "\n",
    "Developing countries show modest but steady growth, with a small spike around 2008 and 2010, this implies that their GDP remains relatively low indicating slower but stable economic expansion"
   ]
  },
  {
   "cell_type": "markdown",
   "id": "fcf5a8d3",
   "metadata": {},
   "source": [
    "### Recommendations\n",
    "#### For Developing Countries:\n",
    "Invest in healthcare infrastructure to improve life expectancy and economic productivity.\n",
    "\n",
    "Promote education and skills training to create a capable workforce\n",
    "\n",
    "#### For Developed Countries:\n",
    "Sustain high health standards through continued investment in healthcare innovation.\n",
    "\n",
    "Focus on quality of life and preventive care to reduce healthcare costs\n"
   ]
  },
  {
   "cell_type": "markdown",
   "id": "3f58a652",
   "metadata": {},
   "source": []
  }
 ],
 "metadata": {
  "kernelspec": {
   "display_name": "Python 3",
   "language": "python",
   "name": "python3"
  },
  "language_info": {
   "codemirror_mode": {
    "name": "ipython",
    "version": 3
   },
   "file_extension": ".py",
   "mimetype": "text/x-python",
   "name": "python",
   "nbconvert_exporter": "python",
   "pygments_lexer": "ipython3",
   "version": "3.12.3"
  }
 },
 "nbformat": 4,
 "nbformat_minor": 5
}
